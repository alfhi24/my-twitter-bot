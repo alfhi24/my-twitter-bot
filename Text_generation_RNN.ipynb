{
  "nbformat": 4,
  "nbformat_minor": 0,
  "metadata": {
    "colab": {
      "name": "Text-generation-RNN.ipynb",
      "provenance": [],
      "collapsed_sections": []
    },
    "kernelspec": {
      "name": "python3",
      "display_name": "Python 3"
    },
    "accelerator": "GPU"
  },
  "cells": [
    {
      "cell_type": "code",
      "metadata": {
        "id": "ltuEwwBAQpWm",
        "colab_type": "code",
        "colab": {
          "base_uri": "https://localhost:8080/",
          "height": 34
        },
        "outputId": "67fcd84f-7e00-4877-e9b9-2d834d2e98d4"
      },
      "source": [
        "from __future__ import absolute_import, division, print_function, unicode_literals\n",
        "\n",
        "try:\n",
        "  %tensorflow_version 2.x\n",
        "except Exception:\n",
        "  pass\n",
        "import tensorflow as tf\n",
        "\n",
        "import numpy as np\n",
        "import os\n",
        "import time"
      ],
      "execution_count": 1,
      "outputs": [
        {
          "output_type": "stream",
          "text": [
            "TensorFlow 2.x selected.\n"
          ],
          "name": "stdout"
        }
      ]
    },
    {
      "cell_type": "code",
      "metadata": {
        "id": "eQoRjr58RtXY",
        "colab_type": "code",
        "colab": {
          "base_uri": "https://localhost:8080/",
          "height": 71
        },
        "outputId": "8c6d5a1b-aaef-408f-de90-302fb2cd44cc"
      },
      "source": [
        "path_to_file = tf.keras.utils.get_file('shakespeare.txt', 'https://storage.googleapis.com/download.tensorflow.org/data/shakespeare.txt')\n"
      ],
      "execution_count": 2,
      "outputs": [
        {
          "output_type": "stream",
          "text": [
            "Downloading data from https://storage.googleapis.com/download.tensorflow.org/data/shakespeare.txt\n",
            "1122304/1115394 [==============================] - 0s 0us/step\n"
          ],
          "name": "stdout"
        }
      ]
    },
    {
      "cell_type": "code",
      "metadata": {
        "id": "9mmdInrmRy4t",
        "colab_type": "code",
        "outputId": "33e8ef30-5bf6-4a51-ace4-0b6e1f9a56c9",
        "colab": {
          "base_uri": "https://localhost:8080/",
          "height": 34
        }
      },
      "source": [
        "text = open(path_to_file, 'rb').read().decode(encoding='utf-8')\n",
        "print ('Length of text: {} characters'.format(len(text)))\n"
      ],
      "execution_count": 3,
      "outputs": [
        {
          "output_type": "stream",
          "text": [
            "Length of text: 1115394 characters\n"
          ],
          "name": "stdout"
        }
      ]
    },
    {
      "cell_type": "code",
      "metadata": {
        "id": "2MMSIhdCR_zA",
        "colab_type": "code",
        "colab": {}
      },
      "source": [
        "# print(text[:300])"
      ],
      "execution_count": 0,
      "outputs": []
    },
    {
      "cell_type": "code",
      "metadata": {
        "id": "tYhrj5RxSDVC",
        "colab_type": "code",
        "outputId": "92067529-37d0-40fd-963e-8216a99d935e",
        "colab": {
          "base_uri": "https://localhost:8080/",
          "height": 34
        }
      },
      "source": [
        "vocab = sorted(set(text))\n",
        "print ('{} unique characters'.format(len(vocab)))"
      ],
      "execution_count": 5,
      "outputs": [
        {
          "output_type": "stream",
          "text": [
            "65 unique characters\n"
          ],
          "name": "stdout"
        }
      ]
    },
    {
      "cell_type": "code",
      "metadata": {
        "id": "q9B1IHqqSHt-",
        "colab_type": "code",
        "colab": {}
      },
      "source": [
        "char2idx = {u:i for i, u in enumerate(vocab)}\n",
        "idx2char = np.array(vocab)\n",
        "\n",
        "text_as_int = np.array([char2idx[c] for c in text])"
      ],
      "execution_count": 0,
      "outputs": []
    },
    {
      "cell_type": "code",
      "metadata": {
        "id": "oJpaJV4OSKse",
        "colab_type": "code",
        "outputId": "edf53a15-6031-4504-81f5-13b79c2aa983",
        "colab": {
          "base_uri": "https://localhost:8080/",
          "height": 408
        }
      },
      "source": [
        "print('{')\n",
        "for char,_ in zip(char2idx, range(20)):\n",
        "    print('  {:4s}: {:3d},'.format(repr(char), char2idx[char]))\n",
        "print('  ...\\n}')"
      ],
      "execution_count": 7,
      "outputs": [
        {
          "output_type": "stream",
          "text": [
            "{\n",
            "  '\\n':   0,\n",
            "  ' ' :   1,\n",
            "  '!' :   2,\n",
            "  '$' :   3,\n",
            "  '&' :   4,\n",
            "  \"'\" :   5,\n",
            "  ',' :   6,\n",
            "  '-' :   7,\n",
            "  '.' :   8,\n",
            "  '3' :   9,\n",
            "  ':' :  10,\n",
            "  ';' :  11,\n",
            "  '?' :  12,\n",
            "  'A' :  13,\n",
            "  'B' :  14,\n",
            "  'C' :  15,\n",
            "  'D' :  16,\n",
            "  'E' :  17,\n",
            "  'F' :  18,\n",
            "  'G' :  19,\n",
            "  ...\n",
            "}\n"
          ],
          "name": "stdout"
        }
      ]
    },
    {
      "cell_type": "code",
      "metadata": {
        "id": "GATBK-43SPro",
        "colab_type": "code",
        "outputId": "52bfa05b-0556-499d-8b4c-3940e32ccb85",
        "colab": {
          "base_uri": "https://localhost:8080/",
          "height": 34
        }
      },
      "source": [
        "print ('{} ---- characters mapped to int ---- > {}'.format(repr(text[:13]), text_as_int[:13]))"
      ],
      "execution_count": 8,
      "outputs": [
        {
          "output_type": "stream",
          "text": [
            "'First Citizen' ---- characters mapped to int ---- > [18 47 56 57 58  1 15 47 58 47 64 43 52]\n"
          ],
          "name": "stdout"
        }
      ]
    },
    {
      "cell_type": "code",
      "metadata": {
        "id": "5_lVl_mbSRqC",
        "colab_type": "code",
        "outputId": "454bffa2-876b-44bd-dafe-8caa97662a6a",
        "colab": {
          "base_uri": "https://localhost:8080/",
          "height": 102
        }
      },
      "source": [
        "seq_length = 100\n",
        "examples_per_epoch = len(text)//(seq_length+1)\n",
        "\n",
        "char_dataset = tf.data.Dataset.from_tensor_slices(text_as_int)\n",
        "\n",
        "for i in char_dataset.take(5):\n",
        "  print(idx2char[i.numpy()])"
      ],
      "execution_count": 9,
      "outputs": [
        {
          "output_type": "stream",
          "text": [
            "F\n",
            "i\n",
            "r\n",
            "s\n",
            "t\n"
          ],
          "name": "stdout"
        }
      ]
    },
    {
      "cell_type": "code",
      "metadata": {
        "id": "OCg7qHAdSoRu",
        "colab_type": "code",
        "outputId": "d263ab37-ab52-44c1-9a9b-d53b313baa82",
        "colab": {
          "base_uri": "https://localhost:8080/",
          "height": 122
        }
      },
      "source": [
        "\n",
        "sequences = char_dataset.batch(seq_length+1, drop_remainder=True)\n",
        "\n",
        "for item in sequences.take(5):\n",
        "  print(repr(''.join(idx2char[item.numpy()])))"
      ],
      "execution_count": 10,
      "outputs": [
        {
          "output_type": "stream",
          "text": [
            "'First Citizen:\\nBefore we proceed any further, hear me speak.\\n\\nAll:\\nSpeak, speak.\\n\\nFirst Citizen:\\nYou '\n",
            "'are all resolved rather to die than to famish?\\n\\nAll:\\nResolved. resolved.\\n\\nFirst Citizen:\\nFirst, you k'\n",
            "\"now Caius Marcius is chief enemy to the people.\\n\\nAll:\\nWe know't, we know't.\\n\\nFirst Citizen:\\nLet us ki\"\n",
            "\"ll him, and we'll have corn at our own price.\\nIs't a verdict?\\n\\nAll:\\nNo more talking on't; let it be d\"\n",
            "'one: away, away!\\n\\nSecond Citizen:\\nOne word, good citizens.\\n\\nFirst Citizen:\\nWe are accounted poor citi'\n"
          ],
          "name": "stdout"
        }
      ]
    },
    {
      "cell_type": "code",
      "metadata": {
        "id": "uBhGIP3-SqF8",
        "colab_type": "code",
        "colab": {}
      },
      "source": [
        "\n",
        "def split_input_target(chunk):\n",
        "    input_text = chunk[:-1]\n",
        "    target_text = chunk[1:]\n",
        "    return input_text, target_text\n",
        "\n",
        "dataset = sequences.map(split_input_target)"
      ],
      "execution_count": 0,
      "outputs": []
    },
    {
      "cell_type": "code",
      "metadata": {
        "id": "WUoe3OleSugh",
        "colab_type": "code",
        "outputId": "ffa318b0-6f69-4090-d22c-66ee1b4fcfca",
        "colab": {
          "base_uri": "https://localhost:8080/",
          "height": 71
        }
      },
      "source": [
        "for input_example, target_example in  dataset.take(1):\n",
        "  print ('Input data: ', repr(''.join(idx2char[input_example.numpy()])))\n",
        "  print ('Target data:', repr(''.join(idx2char[target_example.numpy()])))"
      ],
      "execution_count": 12,
      "outputs": [
        {
          "output_type": "stream",
          "text": [
            "Input data:  'First Citizen:\\nBefore we proceed any further, hear me speak.\\n\\nAll:\\nSpeak, speak.\\n\\nFirst Citizen:\\nYou'\n",
            "Target data: 'irst Citizen:\\nBefore we proceed any further, hear me speak.\\n\\nAll:\\nSpeak, speak.\\n\\nFirst Citizen:\\nYou '\n"
          ],
          "name": "stdout"
        }
      ]
    },
    {
      "cell_type": "code",
      "metadata": {
        "id": "YoZ9j8HTSwk3",
        "colab_type": "code",
        "outputId": "9a6823d1-9fb8-469d-e3ea-a2a46382ac43",
        "colab": {
          "base_uri": "https://localhost:8080/",
          "height": 272
        }
      },
      "source": [
        "for i, (input_idx, target_idx) in enumerate(zip(input_example[:5], target_example[:5])):\n",
        "    print(\"Step {:4d}\".format(i))\n",
        "    print(\"  input: {} ({:s})\".format(input_idx, repr(idx2char[input_idx])))\n",
        "    print(\"  expected output: {} ({:s})\".format(target_idx, repr(idx2char[target_idx])))"
      ],
      "execution_count": 13,
      "outputs": [
        {
          "output_type": "stream",
          "text": [
            "Step    0\n",
            "  input: 18 ('F')\n",
            "  expected output: 47 ('i')\n",
            "Step    1\n",
            "  input: 47 ('i')\n",
            "  expected output: 56 ('r')\n",
            "Step    2\n",
            "  input: 56 ('r')\n",
            "  expected output: 57 ('s')\n",
            "Step    3\n",
            "  input: 57 ('s')\n",
            "  expected output: 58 ('t')\n",
            "Step    4\n",
            "  input: 58 ('t')\n",
            "  expected output: 1 (' ')\n"
          ],
          "name": "stdout"
        }
      ]
    },
    {
      "cell_type": "code",
      "metadata": {
        "id": "wGDIQZEtSzBH",
        "colab_type": "code",
        "outputId": "1f5f7124-ab34-4e11-d348-8776cd8c2b83",
        "colab": {
          "base_uri": "https://localhost:8080/",
          "height": 34
        }
      },
      "source": [
        "BATCH_SIZE = 64\n",
        "BUFFER_SIZE = 10000\n",
        "\n",
        "dataset = dataset.shuffle(BUFFER_SIZE).batch(BATCH_SIZE, drop_remainder=True)\n",
        "\n",
        "dataset"
      ],
      "execution_count": 14,
      "outputs": [
        {
          "output_type": "execute_result",
          "data": {
            "text/plain": [
              "<BatchDataset shapes: ((64, 100), (64, 100)), types: (tf.int64, tf.int64)>"
            ]
          },
          "metadata": {
            "tags": []
          },
          "execution_count": 14
        }
      ]
    },
    {
      "cell_type": "code",
      "metadata": {
        "id": "at91QOheS2WN",
        "colab_type": "code",
        "colab": {}
      },
      "source": [
        "vocab_size = len(vocab)\n",
        "\n",
        "embedding_dim = 256\n",
        "\n",
        "rnn_units = 1024"
      ],
      "execution_count": 0,
      "outputs": []
    },
    {
      "cell_type": "code",
      "metadata": {
        "id": "s4bJO9WpS4bm",
        "colab_type": "code",
        "colab": {}
      },
      "source": [
        "def build_model(vocab_size, embedding_dim, rnn_units, batch_size):\n",
        "  model = tf.keras.Sequential([\n",
        "    tf.keras.layers.Embedding(vocab_size, embedding_dim,\n",
        "                              batch_input_shape=[batch_size, None]),\n",
        "    tf.keras.layers.GRU(rnn_units,\n",
        "                        return_sequences=True,\n",
        "                        stateful=True,\n",
        "                        recurrent_initializer='glorot_uniform'),\n",
        "    tf.keras.layers.Dense(vocab_size)\n",
        "  ])\n",
        "  return model"
      ],
      "execution_count": 0,
      "outputs": []
    },
    {
      "cell_type": "code",
      "metadata": {
        "id": "8W1eU0oGS_iW",
        "colab_type": "code",
        "colab": {}
      },
      "source": [
        "model = build_model(\n",
        "  vocab_size = len(vocab),\n",
        "  embedding_dim=embedding_dim,\n",
        "  rnn_units=rnn_units,\n",
        "  batch_size=BATCH_SIZE)"
      ],
      "execution_count": 0,
      "outputs": []
    },
    {
      "cell_type": "code",
      "metadata": {
        "id": "Jqsc-WqGTB7u",
        "colab_type": "code",
        "outputId": "73cfcf9f-8d3c-4e71-8480-d17d7ec40df5",
        "colab": {
          "base_uri": "https://localhost:8080/",
          "height": 34
        }
      },
      "source": [
        "\n",
        "for input_example_batch, target_example_batch in dataset.take(1):\n",
        "  example_batch_predictions = model(input_example_batch)\n",
        "  print(example_batch_predictions.shape, \"# (batch_size, sequence_length, vocab_size)\")"
      ],
      "execution_count": 18,
      "outputs": [
        {
          "output_type": "stream",
          "text": [
            "(64, 100, 65) # (batch_size, sequence_length, vocab_size)\n"
          ],
          "name": "stdout"
        }
      ]
    },
    {
      "cell_type": "code",
      "metadata": {
        "id": "jTooOxC1TD26",
        "colab_type": "code",
        "outputId": "95a060aa-29b7-4862-cf92-df23af956051",
        "colab": {
          "base_uri": "https://localhost:8080/",
          "height": 255
        }
      },
      "source": [
        "\n",
        "model.summary()"
      ],
      "execution_count": 19,
      "outputs": [
        {
          "output_type": "stream",
          "text": [
            "Model: \"sequential\"\n",
            "_________________________________________________________________\n",
            "Layer (type)                 Output Shape              Param #   \n",
            "=================================================================\n",
            "embedding (Embedding)        (64, None, 256)           16640     \n",
            "_________________________________________________________________\n",
            "gru (GRU)                    (64, None, 1024)          3938304   \n",
            "_________________________________________________________________\n",
            "dense (Dense)                (64, None, 65)            66625     \n",
            "=================================================================\n",
            "Total params: 4,021,569\n",
            "Trainable params: 4,021,569\n",
            "Non-trainable params: 0\n",
            "_________________________________________________________________\n"
          ],
          "name": "stdout"
        }
      ]
    },
    {
      "cell_type": "code",
      "metadata": {
        "id": "_Ho8oI7FTF2s",
        "colab_type": "code",
        "colab": {}
      },
      "source": [
        "sampled_indices = tf.random.categorical(example_batch_predictions[0], num_samples=1)\n",
        "sampled_indices = tf.squeeze(sampled_indices,axis=-1).numpy()"
      ],
      "execution_count": 0,
      "outputs": []
    },
    {
      "cell_type": "code",
      "metadata": {
        "id": "ifGLuXpqTIBu",
        "colab_type": "code",
        "outputId": "da65bc87-aa07-4a44-e535-efa6f9eaac8e",
        "colab": {
          "base_uri": "https://localhost:8080/",
          "height": 119
        }
      },
      "source": [
        "sampled_indices"
      ],
      "execution_count": 21,
      "outputs": [
        {
          "output_type": "execute_result",
          "data": {
            "text/plain": [
              "array([18, 53, 10,  9, 43,  0, 27, 57, 13, 22, 62, 14, 22, 34, 18, 28, 57,\n",
              "       34,  8, 15,  0, 40, 57, 37, 25, 22, 40, 34,  1, 61, 34, 38,  0, 19,\n",
              "       27, 34, 22, 25, 12, 47, 49, 51, 26, 51, 49, 48, 47, 51, 51, 61, 55,\n",
              "       24, 15, 58, 39, 50,  6, 63, 49, 48, 32,  2, 12, 29, 25, 47, 59,  0,\n",
              "       29, 21, 61, 58,  0, 28, 59, 42, 55, 64, 56, 20, 35, 23, 53, 15, 25,\n",
              "       50, 54,  1, 57,  3, 22, 39, 28, 46, 55,  5,  8, 64, 12, 10])"
            ]
          },
          "metadata": {
            "tags": []
          },
          "execution_count": 21
        }
      ]
    },
    {
      "cell_type": "code",
      "metadata": {
        "id": "eHeJ-Eu2TKAO",
        "colab_type": "code",
        "outputId": "ef872fe6-5414-47c7-81a2-76d4d2e2487a",
        "colab": {
          "base_uri": "https://localhost:8080/",
          "height": 122
        }
      },
      "source": [
        "\n",
        "print(\"Input: \\n\", repr(\"\".join(idx2char[input_example_batch[0]])))\n",
        "print()\n",
        "print(\"Next Char Predictions: \\n\", repr(\"\".join(idx2char[sampled_indices ])))"
      ],
      "execution_count": 22,
      "outputs": [
        {
          "output_type": "stream",
          "text": [
            "Input: \n",
            " \", God defend my soul from such deep sin!\\nShall I seem crest-fall'n in my father's sight?\\nOr with pal\"\n",
            "\n",
            "Next Char Predictions: \n",
            " \"Fo:3e\\nOsAJxBJVFPsV.C\\nbsYMJbV wVZ\\nGOVJM?ikmNmkjimmwqLCtal,ykjT!?QMiu\\nQIwt\\nPudqzrHWKoCMlp s$JaPhq'.z?:\"\n"
          ],
          "name": "stdout"
        }
      ]
    },
    {
      "cell_type": "code",
      "metadata": {
        "id": "RALUM49XTNJO",
        "colab_type": "code",
        "outputId": "2cd520ee-78b8-4443-d56c-43633d98aae2",
        "colab": {
          "base_uri": "https://localhost:8080/",
          "height": 51
        }
      },
      "source": [
        "def loss(labels, logits):\n",
        "  return tf.keras.losses.sparse_categorical_crossentropy(labels, logits, from_logits=True)\n",
        "\n",
        "example_batch_loss  = loss(target_example_batch, example_batch_predictions)\n",
        "print(\"Prediction shape: \", example_batch_predictions.shape, \" # (batch_size, sequence_length, vocab_size)\")\n",
        "print(\"scalar_loss:      \", example_batch_loss.numpy().mean())"
      ],
      "execution_count": 23,
      "outputs": [
        {
          "output_type": "stream",
          "text": [
            "Prediction shape:  (64, 100, 65)  # (batch_size, sequence_length, vocab_size)\n",
            "scalar_loss:       4.1747804\n"
          ],
          "name": "stdout"
        }
      ]
    },
    {
      "cell_type": "code",
      "metadata": {
        "id": "3BeQCdksAdXf",
        "colab_type": "code",
        "colab": {}
      },
      "source": [
        "optimizer = tf.keras.optimizers.Adam()"
      ],
      "execution_count": 0,
      "outputs": []
    },
    {
      "cell_type": "code",
      "metadata": {
        "id": "BqHN7qe4AhxW",
        "colab_type": "code",
        "colab": {}
      },
      "source": [
        "@tf.function\n",
        "def train_step(inp, target):\n",
        "  with tf.GradientTape() as tape:\n",
        "    predictions = model(inp)\n",
        "    loss = tf.reduce_mean(\n",
        "        tf.keras.losses.sparse_categorical_crossentropy(\n",
        "            target, predictions, from_logits=True))\n",
        "  grads = tape.gradient(loss, model.trainable_variables)\n",
        "  optimizer.apply_gradients(zip(grads, model.trainable_variables))\n",
        "\n",
        "  return loss"
      ],
      "execution_count": 0,
      "outputs": []
    },
    {
      "cell_type": "code",
      "metadata": {
        "id": "jvceDJCWTva1",
        "colab_type": "code",
        "colab": {}
      },
      "source": [
        "checkpoint_dir = './training_checkpoints'\n",
        "\n",
        "checkpoint_prefix = os.path.join(checkpoint_dir, \"ckpt_{epoch}\")\n",
        "\n",
        "checkpoint_callback=tf.keras.callbacks.ModelCheckpoint(\n",
        "    filepath=checkpoint_prefix,\n",
        "    save_weights_only=True)"
      ],
      "execution_count": 0,
      "outputs": []
    },
    {
      "cell_type": "code",
      "metadata": {
        "id": "eIPaye2RAnKy",
        "colab_type": "code",
        "outputId": "2b1f2f86-12f5-492a-d761-1e16f6898680",
        "colab": {
          "base_uri": "https://localhost:8080/",
          "height": 1000
        }
      },
      "source": [
        "# Training step\n",
        "EPOCHS = 15\n",
        "\n",
        "for epoch in range(EPOCHS):\n",
        "  start = time.time()\n",
        "\n",
        "  hidden = model.reset_states()\n",
        "\n",
        "  for (batch_n, (inp, target)) in enumerate(dataset):\n",
        "    loss = train_step(inp, target)\n",
        "\n",
        "    if batch_n % 100 == 0:\n",
        "      template = 'Epoch {} Batch {} Loss {}'\n",
        "      print(template.format(epoch+1, batch_n, loss))\n",
        "\n",
        "  if (epoch + 1) % 5 == 0:\n",
        "    model.save_weights(checkpoint_prefix.format(epoch=epoch))\n",
        "\n",
        "  print ('Epoch {} Loss {:.4f}'.format(epoch+1, loss))\n",
        "  print ('Time taken for 1 epoch {} sec\\n'.format(time.time() - start))\n",
        "\n",
        "model.save_weights(checkpoint_prefix.format(epoch=epoch))"
      ],
      "execution_count": 28,
      "outputs": [
        {
          "output_type": "stream",
          "text": [
            "Epoch 1 Batch 0 Loss 3.1655614376068115\n",
            "Epoch 1 Batch 100 Loss 2.303060293197632\n",
            "Epoch 1 Loss 2.0687\n",
            "Time taken for 1 epoch 25.2295823097229 sec\n",
            "\n",
            "Epoch 2 Batch 0 Loss 2.1023409366607666\n",
            "Epoch 2 Batch 100 Loss 1.8714407682418823\n",
            "Epoch 2 Loss 1.7515\n",
            "Time taken for 1 epoch 25.00673770904541 sec\n",
            "\n",
            "Epoch 3 Batch 0 Loss 1.7652592658996582\n",
            "Epoch 3 Batch 100 Loss 1.6910268068313599\n",
            "Epoch 3 Loss 1.5428\n",
            "Time taken for 1 epoch 24.87583565711975 sec\n",
            "\n",
            "Epoch 4 Batch 0 Loss 1.5632439851760864\n",
            "Epoch 4 Batch 100 Loss 1.532256007194519\n",
            "Epoch 4 Loss 1.5166\n",
            "Time taken for 1 epoch 24.832855701446533 sec\n",
            "\n",
            "Epoch 5 Batch 0 Loss 1.4240795373916626\n",
            "Epoch 5 Batch 100 Loss 1.4565670490264893\n",
            "Epoch 5 Loss 1.4026\n",
            "Time taken for 1 epoch 24.93306541442871 sec\n",
            "\n",
            "Epoch 6 Batch 0 Loss 1.3911452293395996\n",
            "Epoch 6 Batch 100 Loss 1.3871960639953613\n",
            "Epoch 6 Loss 1.4140\n",
            "Time taken for 1 epoch 24.853981971740723 sec\n",
            "\n",
            "Epoch 7 Batch 0 Loss 1.3278627395629883\n",
            "Epoch 7 Batch 100 Loss 1.300296664237976\n",
            "Epoch 7 Loss 1.3573\n",
            "Time taken for 1 epoch 24.881110668182373 sec\n",
            "\n",
            "Epoch 8 Batch 0 Loss 1.2576534748077393\n",
            "Epoch 8 Batch 100 Loss 1.3172390460968018\n",
            "Epoch 8 Loss 1.2934\n",
            "Time taken for 1 epoch 24.778188943862915 sec\n",
            "\n",
            "Epoch 9 Batch 0 Loss 1.217777967453003\n",
            "Epoch 9 Batch 100 Loss 1.2375881671905518\n",
            "Epoch 9 Loss 1.2867\n",
            "Time taken for 1 epoch 24.927032232284546 sec\n",
            "\n",
            "Epoch 10 Batch 0 Loss 1.1990820169448853\n",
            "Epoch 10 Batch 100 Loss 1.2387465238571167\n",
            "Epoch 10 Loss 1.2379\n",
            "Time taken for 1 epoch 24.901691436767578 sec\n",
            "\n",
            "Epoch 11 Batch 0 Loss 1.1724917888641357\n",
            "Epoch 11 Batch 100 Loss 1.2372920513153076\n",
            "Epoch 11 Loss 1.2006\n",
            "Time taken for 1 epoch 24.860961198806763 sec\n",
            "\n",
            "Epoch 12 Batch 0 Loss 1.0891450643539429\n",
            "Epoch 12 Batch 100 Loss 1.1948431730270386\n",
            "Epoch 12 Loss 1.1730\n",
            "Time taken for 1 epoch 24.873619318008423 sec\n",
            "\n",
            "Epoch 13 Batch 0 Loss 1.065701961517334\n",
            "Epoch 13 Batch 100 Loss 1.1428362131118774\n",
            "Epoch 13 Loss 1.1200\n",
            "Time taken for 1 epoch 24.848677158355713 sec\n",
            "\n",
            "Epoch 14 Batch 0 Loss 1.0453182458877563\n",
            "Epoch 14 Batch 100 Loss 1.1249420642852783\n",
            "Epoch 14 Loss 1.1534\n",
            "Time taken for 1 epoch 24.842673540115356 sec\n",
            "\n",
            "Epoch 15 Batch 0 Loss 1.0307302474975586\n",
            "Epoch 15 Batch 100 Loss 1.1083505153656006\n",
            "Epoch 15 Loss 1.0932\n",
            "Time taken for 1 epoch 24.83689594268799 sec\n",
            "\n"
          ],
          "name": "stdout"
        }
      ]
    },
    {
      "cell_type": "code",
      "metadata": {
        "id": "i486vx9FT2Wl",
        "colab_type": "code",
        "outputId": "d0a21d96-ea34-4048-f540-d260a31e6dd5",
        "colab": {
          "base_uri": "https://localhost:8080/",
          "height": 34
        }
      },
      "source": [
        "tf.train.latest_checkpoint(checkpoint_dir)"
      ],
      "execution_count": 29,
      "outputs": [
        {
          "output_type": "execute_result",
          "data": {
            "text/plain": [
              "'./training_checkpoints/ckpt_14'"
            ]
          },
          "metadata": {
            "tags": []
          },
          "execution_count": 29
        }
      ]
    },
    {
      "cell_type": "code",
      "metadata": {
        "id": "GcsOYwIgUU5h",
        "colab_type": "code",
        "colab": {}
      },
      "source": [
        "model = build_model(vocab_size, embedding_dim, rnn_units, batch_size=1)\n",
        "\n",
        "model.load_weights(tf.train.latest_checkpoint(checkpoint_dir))\n",
        "\n",
        "model.build(tf.TensorShape([1, None]))"
      ],
      "execution_count": 0,
      "outputs": []
    },
    {
      "cell_type": "code",
      "metadata": {
        "id": "fUAYgV2_UXB5",
        "colab_type": "code",
        "outputId": "fc734793-9db2-4f5c-cb9c-70f91a29b2e4",
        "colab": {
          "base_uri": "https://localhost:8080/",
          "height": 255
        }
      },
      "source": [
        "model.summary()"
      ],
      "execution_count": 31,
      "outputs": [
        {
          "output_type": "stream",
          "text": [
            "Model: \"sequential_1\"\n",
            "_________________________________________________________________\n",
            "Layer (type)                 Output Shape              Param #   \n",
            "=================================================================\n",
            "embedding_1 (Embedding)      (1, None, 256)            16640     \n",
            "_________________________________________________________________\n",
            "gru_1 (GRU)                  (1, None, 1024)           3938304   \n",
            "_________________________________________________________________\n",
            "dense_1 (Dense)              (1, None, 65)             66625     \n",
            "=================================================================\n",
            "Total params: 4,021,569\n",
            "Trainable params: 4,021,569\n",
            "Non-trainable params: 0\n",
            "_________________________________________________________________\n"
          ],
          "name": "stdout"
        }
      ]
    },
    {
      "cell_type": "code",
      "metadata": {
        "id": "XLjeWvvlUYT0",
        "colab_type": "code",
        "colab": {}
      },
      "source": [
        "def generate_text(model, start_string):\n",
        "\n",
        "  num_generate = 1000\n",
        "\n",
        "  input_eval = [char2idx[s] for s in start_string]\n",
        "  input_eval = tf.expand_dims(input_eval, 0)\n",
        "\n",
        "  text_generated = []\n",
        "  temperature = 1\n",
        "\n",
        "  model.reset_states()\n",
        "  for i in range(num_generate):\n",
        "      predictions = model(input_eval)\n",
        "      predictions = tf.squeeze(predictions, 0)\n",
        "\n",
        "      predictions = predictions / temperature\n",
        "      predicted_id = tf.random.categorical(predictions, num_samples=1)[-1,0].numpy()\n",
        "\n",
        "      input_eval = tf.expand_dims([predicted_id], 0)\n",
        "\n",
        "      text_generated.append(idx2char[predicted_id])\n",
        "\n",
        "  return (start_string + ''.join(text_generated))"
      ],
      "execution_count": 0,
      "outputs": []
    },
    {
      "cell_type": "code",
      "metadata": {
        "id": "alpfsrW9UckZ",
        "colab_type": "code",
        "outputId": "81c5816b-9e6e-4b5b-cb35-bf51a6c4f4cc",
        "colab": {
          "base_uri": "https://localhost:8080/",
          "height": 697
        }
      },
      "source": [
        "print(generate_text(model, start_string=u\"i love you\"))"
      ],
      "execution_count": 33,
      "outputs": [
        {
          "output_type": "stream",
          "text": [
            "i love your need.\n",
            "\n",
            "DUKE VINCENTIO:\n",
            "You see this, bott me now, Master French nor\n",
            "does that will Kath the wind.\n",
            "\n",
            "PRINCE EDWARD:\n",
            "Nay, take away the holy hour, if I shoutle noble queen,\n",
            "These humorous.\n",
            "\n",
            "MENENIUS Paris.\n",
            "\n",
            "MERCUTIO:\n",
            "You will make me a temple of that pierconorness, friar,\n",
            "Wherein this friar, your father\n",
            "More than adverse part\n",
            "Being butcher, this curding dreams:--looking breath.\n",
            "\n",
            "Lander, hath so.\n",
            "\n",
            "FRIAR LAURENCE:\n",
            "\n",
            "CAMILLO:\n",
            "I' a very prince aboard, die; there is none other.\n",
            "\n",
            "ANGELO:\n",
            "Worth news, the kingdom to thy majesty.\n",
            "\n",
            "MENENIUS:\n",
            "Mistress make me not, look as he does well;\n",
            "I have way nor less\n",
            "The tale, when wherein you make from me the druizer: have, I denitate way\n",
            "You, if ever I with a remembrance of injunnat;\n",
            "And that her now take it;\n",
            "Even thither. by my lords,\n",
            "I would they lose their love of her,\n",
            "Or suffer'd, this wind overblook, and saying 'Warwick, thou a man's brows were abood\n",
            "That thought of secord services rable, and o'erwhere shall\n",
            "Of that, I pray you, I do't: be it,\n",
            "And towar\n"
          ],
          "name": "stdout"
        }
      ]
    }
  ]
}